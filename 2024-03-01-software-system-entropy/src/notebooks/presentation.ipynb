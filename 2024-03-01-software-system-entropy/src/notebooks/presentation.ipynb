{
 "cells": [
  {
   "cell_type": "markdown",
   "id": "beca2807-fe03-4d1c-ab10-40d713086f8e",
   "metadata": {
    "editable": true,
    "slideshow": {
     "slide_type": "slide"
    },
    "tags": []
   },
   "source": [
    "<center>\n",
    "    \n",
    "## Software Entropy and Failure\n",
    "#### Journal Club 2024-03-01\n",
    "\n",
    "</center>"
   ]
  },
  {
   "cell_type": "markdown",
   "id": "3410a263-0be1-4a1f-9f1d-a57fe8c76e63",
   "metadata": {
    "editable": true,
    "slideshow": {
     "slide_type": "slide"
    },
    "tags": []
   },
   "source": [
    "__Challenge__\n",
    "\n",
    "- We have many software heuristics when it comes to best practices.\n",
    "- How can we quantify and scientifically improve upon these practices (within the context of avoiding failures)?"
   ]
  },
  {
   "cell_type": "code",
   "execution_count": 1,
   "id": "221bca12-f376-4faa-9369-2de0beba842d",
   "metadata": {
    "editable": true,
    "slideshow": {
     "slide_type": "skip"
    },
    "tags": []
   },
   "outputs": [],
   "source": [
    "# slide diagram preparations\n",
    "import pathlib\n",
    "\n",
    "import requests\n",
    "from IPython.display import SVG\n",
    "\n",
    "# create an images dir\n",
    "pathlib.Path(\"images\").mkdir(exist_ok=True)\n",
    "\n",
    "\n",
    "def render_mermaid_diagram(mermaid_code, filename, filedir=\"images\"):\n",
    "    \"\"\"\n",
    "    Saves and renders SVG of Mermaid diagram using Kroki service.\n",
    "    \"\"\"\n",
    "    response = requests.post(\n",
    "        \"https://kroki.io/\",\n",
    "        json={\n",
    "            \"diagram_source\": mermaid_code,\n",
    "            \"diagram_type\": \"mermaid\",\n",
    "            \"output_format\": \"svg\",\n",
    "        },\n",
    "    )\n",
    "\n",
    "    if response.status_code == 200:\n",
    "        decoded = response.content.decode(\"utf-8\")\n",
    "        with open(f\"{filedir}/{filename}\", mode=\"w\") as file:\n",
    "            file.write(decoded)\n",
    "        return SVG(decoded)\n",
    "    else:\n",
    "        return f\"Failed to render diagram. Status code: {response.status_code}\""
   ]
  },
  {
   "cell_type": "code",
   "execution_count": 2,
   "id": "c36553aa-91cd-4c9f-8035-f949e44705e4",
   "metadata": {
    "editable": true,
    "slideshow": {
     "slide_type": "skip"
    },
    "tags": []
   },
   "outputs": [
    {
     "data": {
      "image/svg+xml": [
       "<svg xmlns=\"http://www.w3.org/2000/svg\" aria-roledescription=\"flowchart-v2\" role=\"graphics-document document\" viewBox=\"-8 -8 551.78125 54\" height=\"54\" width=\"551.78125\" id=\"container\"><style>#container{font-family:&quot;trebuchet ms&quot;,verdana,arial,sans-serif;font-size:16px;fill:#333;}#container .error-icon{fill:#552222;}#container .error-text{fill:#552222;stroke:#552222;}#container .edge-thickness-normal{stroke-width:2px;}#container .edge-thickness-thick{stroke-width:3.5px;}#container .edge-pattern-solid{stroke-dasharray:0;}#container .edge-pattern-dashed{stroke-dasharray:3;}#container .edge-pattern-dotted{stroke-dasharray:2;}#container .marker{fill:#333333;stroke:#333333;}#container .marker.cross{stroke:#333333;}#container svg{font-family:&quot;trebuchet ms&quot;,verdana,arial,sans-serif;font-size:16px;}#container .label{font-family:&quot;trebuchet ms&quot;,verdana,arial,sans-serif;color:#333;}#container .cluster-label text{fill:#333;}#container .cluster-label span,#container p{color:#333;}#container .label text,#container span,#container p{fill:#333;color:#333;}#container .node rect,#container .node circle,#container .node ellipse,#container .node polygon,#container .node path{fill:#ECECFF;stroke:#9370DB;stroke-width:1px;}#container .flowchart-label text{text-anchor:middle;}#container .node .label{text-align:center;}#container .node.clickable{cursor:pointer;}#container .arrowheadPath{fill:#333333;}#container .edgePath .path{stroke:#333333;stroke-width:2.0px;}#container .flowchart-link{stroke:#333333;fill:none;}#container .edgeLabel{background-color:#e8e8e8;text-align:center;}#container .edgeLabel rect{opacity:0.5;background-color:#e8e8e8;fill:#e8e8e8;}#container .labelBkg{background-color:rgba(232, 232, 232, 0.5);}#container .cluster rect{fill:#ffffde;stroke:#aaaa33;stroke-width:1px;}#container .cluster text{fill:#333;}#container .cluster span,#container p{color:#333;}#container div.mermaidTooltip{position:absolute;text-align:center;max-width:200px;padding:2px;font-family:&quot;trebuchet ms&quot;,verdana,arial,sans-serif;font-size:12px;background:hsl(80, 100%, 96.2745098039%);border:1px solid #aaaa33;border-radius:2px;pointer-events:none;z-index:100;}#container .flowchartTitleText{text-anchor:middle;font-size:18px;fill:#333;}#container :root{--mermaid-font-family:&quot;trebuchet ms&quot;,verdana,arial,sans-serif;}</style><g><marker orient=\"auto\" markerHeight=\"12\" markerWidth=\"12\" markerUnits=\"userSpaceOnUse\" refY=\"5\" refX=\"10\" viewBox=\"0 0 10 10\" class=\"marker flowchart\" id=\"flowchart-pointEnd\"><path style=\"stroke-width: 1; stroke-dasharray: 1, 0;\" class=\"arrowMarkerPath\" d=\"M 0 0 L 10 5 L 0 10 z\"/></marker><marker orient=\"auto\" markerHeight=\"12\" markerWidth=\"12\" markerUnits=\"userSpaceOnUse\" refY=\"5\" refX=\"0\" viewBox=\"0 0 10 10\" class=\"marker flowchart\" id=\"flowchart-pointStart\"><path style=\"stroke-width: 1; stroke-dasharray: 1, 0;\" class=\"arrowMarkerPath\" d=\"M 0 5 L 10 10 L 10 0 z\"/></marker><marker orient=\"auto\" markerHeight=\"11\" markerWidth=\"11\" markerUnits=\"userSpaceOnUse\" refY=\"5\" refX=\"11\" viewBox=\"0 0 10 10\" class=\"marker flowchart\" id=\"flowchart-circleEnd\"><circle style=\"stroke-width: 1; stroke-dasharray: 1, 0;\" class=\"arrowMarkerPath\" r=\"5\" cy=\"5\" cx=\"5\"/></marker><marker orient=\"auto\" markerHeight=\"11\" markerWidth=\"11\" markerUnits=\"userSpaceOnUse\" refY=\"5\" refX=\"-1\" viewBox=\"0 0 10 10\" class=\"marker flowchart\" id=\"flowchart-circleStart\"><circle style=\"stroke-width: 1; stroke-dasharray: 1, 0;\" class=\"arrowMarkerPath\" r=\"5\" cy=\"5\" cx=\"5\"/></marker><marker orient=\"auto\" markerHeight=\"11\" markerWidth=\"11\" markerUnits=\"userSpaceOnUse\" refY=\"5.2\" refX=\"12\" viewBox=\"0 0 11 11\" class=\"marker cross flowchart\" id=\"flowchart-crossEnd\"><path style=\"stroke-width: 2; stroke-dasharray: 1, 0;\" class=\"arrowMarkerPath\" d=\"M 1,1 l 9,9 M 10,1 l -9,9\"/></marker><marker orient=\"auto\" markerHeight=\"11\" markerWidth=\"11\" markerUnits=\"userSpaceOnUse\" refY=\"5.2\" refX=\"-1\" viewBox=\"0 0 11 11\" class=\"marker cross flowchart\" id=\"flowchart-crossStart\"><path style=\"stroke-width: 2; stroke-dasharray: 1, 0;\" class=\"arrowMarkerPath\" d=\"M 1,1 l 9,9 M 10,1 l -9,9\"/></marker><g class=\"root\"><g class=\"clusters\"/><g class=\"edgePaths\"><path marker-end=\"url(#flowchart-pointEnd)\" style=\"fill:none;\" class=\"edge-thickness-normal edge-pattern-solid flowchart-link LS-software LE-complexity\" id=\"L-software-complexity-0\" d=\"M78.609375,19L92.5625,19C106.515625,19,134.421875,19,162.328125,19C190.234375,19,218.140625,19,232.09375,19L246.046875,19\"/><path marker-end=\"url(#flowchart-pointEnd)\" style=\"fill:none;\" class=\"edge-thickness-normal edge-pattern-solid flowchart-link LS-complexity LE-failures\" id=\"L-complexity-failures-0\" d=\"M339.96875,19L350.5260416666667,19C361.0833333333333,19,382.1979166666667,19,403.3125,19C424.4270833333333,19,445.5416666666667,19,456.0989583333333,19L466.65625,19\"/></g><g class=\"edgeLabels\"><g transform=\"translate(162.328125, 19)\" class=\"edgeLabel\"><g transform=\"translate(-58.71875, -19)\" class=\"label\"><foreignObject height=\"38\" width=\"117.4375\"><div xmlns=\"http://www.w3.org/1999/xhtml\" style=\"display: inline-block; white-space: nowrap;\"><span class=\"edgeLabel\">changes include<br/>varying</span></div></foreignObject></g></g><g transform=\"translate(403.3125, 19)\" class=\"edgeLabel\"><g transform=\"translate(-38.34375, -19)\" class=\"label\"><foreignObject height=\"38\" width=\"76.6875\"><div xmlns=\"http://www.w3.org/1999/xhtml\" style=\"display: inline-block; white-space: nowrap;\"><span class=\"edgeLabel\">which may<br/>cause</span></div></foreignObject></g></g></g><g class=\"nodes\"><g transform=\"translate(39.3046875, 19)\" id=\"flowchart-software-0\" class=\"node default default flowchart-label\"><rect height=\"34\" width=\"78.609375\" y=\"-17\" x=\"-39.3046875\" ry=\"0\" rx=\"0\" style=\"\" class=\"basic label-container\"/><g transform=\"translate(-31.8046875, -9.5)\" style=\"\" class=\"label\"><rect/><foreignObject height=\"19\" width=\"63.609375\"><div xmlns=\"http://www.w3.org/1999/xhtml\" style=\"display: inline-block; white-space: nowrap;\"><span class=\"nodeLabel\">Software</span></div></foreignObject></g></g><g transform=\"translate(293.0078125, 19)\" id=\"flowchart-complexity-1\" class=\"node default default flowchart-label\"><rect height=\"34\" width=\"93.921875\" y=\"-17\" x=\"-46.9609375\" ry=\"0\" rx=\"0\" style=\"\" class=\"basic label-container\"/><g transform=\"translate(-39.4609375, -9.5)\" style=\"\" class=\"label\"><rect/><foreignObject height=\"19\" width=\"78.921875\"><div xmlns=\"http://www.w3.org/1999/xhtml\" style=\"display: inline-block; white-space: nowrap;\"><span class=\"nodeLabel\">complexity</span></div></foreignObject></g></g><g transform=\"translate(501.21875, 19)\" id=\"flowchart-failures-3\" class=\"node default default flowchart-label\"><rect height=\"34\" width=\"69.125\" y=\"-17\" x=\"-34.5625\" ry=\"0\" rx=\"0\" style=\"\" class=\"basic label-container\"/><g transform=\"translate(-27.0625, -9.5)\" style=\"\" class=\"label\"><rect/><foreignObject height=\"19\" width=\"54.125\"><div xmlns=\"http://www.w3.org/1999/xhtml\" style=\"display: inline-block; white-space: nowrap;\"><span class=\"nodeLabel\">failures</span></div></foreignObject></g></g></g></g></g></svg>"
      ],
      "text/plain": [
       "<IPython.core.display.SVG object>"
      ]
     },
     "execution_count": 2,
     "metadata": {},
     "output_type": "execute_result"
    }
   ],
   "source": [
    "render_mermaid_diagram(\n",
    "    \"\"\"\n",
    "    flowchart LR\n",
    "        software[\"Software\"] --> | changes include\\nvarying | complexity\n",
    "        complexity --> | which may\\ncause | failures\n",
    "    \"\"\",\n",
    "    \"title_understanding.svg\",\n",
    ")"
   ]
  },
  {
   "cell_type": "markdown",
   "id": "85fe8034-97f4-40a6-ba86-a6a5183bbd8e",
   "metadata": {
    "editable": true,
    "slideshow": {
     "slide_type": "slide"
    },
    "tags": []
   },
   "source": [
    "__Journal article focus__\n",
    "\n",
    "![](images/title_understanding.svg)\n",
    "\n",
    "A. E. Hassan, __\"Predicting faults using the complexity of code changes\"__.\n",
    "\n",
    "DOI: [10.1109/ICSE.2009.5070510](https://doi.org/10.1109/ICSE.2009.5070510)\n"
   ]
  },
  {
   "cell_type": "markdown",
   "id": "af49969b-f553-43f0-bd97-f6ac0df7bc90",
   "metadata": {
    "editable": true,
    "slideshow": {
     "slide_type": "slide"
    },
    "tags": []
   },
   "source": [
    "__Title definitions__\n",
    "\n",
    "- __Faults__: _\"In document ISO 10303-226, a fault is defined as an abnormal condition or defect at the component, equipment, or sub-system level which may lead to a failure.\"_ ([Wikipedia: Fault (technology)](https://en.wikipedia.org/wiki/Fault_(technology)))\n",
    "- __Complexity__: \"... _un-certainty/randomness/complexity_ ...\" (article Section 4)"
   ]
  },
  {
   "cell_type": "markdown",
   "id": "b46707f2-79ed-4e74-bcbf-3bed93709d30",
   "metadata": {
    "editable": true,
    "slideshow": {
     "slide_type": "slide"
    },
    "tags": []
   },
   "source": [
    "__Complexity__\n",
    "\n",
    "- Complexity as uncertainty or randomness may be understood as ___entropy___ from information theory."
   ]
  },
  {
   "cell_type": "markdown",
   "id": "47b9011b-1140-4254-a6fe-bf0a905f5738",
   "metadata": {
    "editable": true,
    "slideshow": {
     "slide_type": "subslide"
    },
    "tags": []
   },
   "source": [
    "__Complexity (information theory)__\n",
    "\n",
    "_In information theory, the entropy of a __random variable__ is the __average level__ of __\"information\", \"surprise\", or \"uncertainty\"__ inherent to the variable's __possible outcomes__._\n",
    "\n",
    "[Wikipedia: Entropy (information theory)](https://en.wikipedia.org/wiki/Entropy_(information_theory))\n",
    "\n"
   ]
  },
  {
   "cell_type": "markdown",
   "id": "f47cf6da-caaf-44b5-888a-a8bea2375783",
   "metadata": {
    "editable": true,
    "slideshow": {
     "slide_type": "subslide"
    },
    "tags": []
   },
   "source": [
    "__Complexity (information theory)__\n",
    "\n",
    "_Entropy: 1. A measure of the disorder present in a system._\n",
    "\n",
    "[Wiktionary: Entropy](https://en.wiktionary.org/wiki/entropy)"
   ]
  },
  {
   "attachments": {},
   "cell_type": "markdown",
   "id": "12021b91-6b4e-451e-9b51-ca71c60e9fd0",
   "metadata": {
    "editable": true,
    "slideshow": {
     "slide_type": "subslide"
    },
    "tags": []
   },
   "source": [
    "__Complexity (information theory)__\n",
    "\n",
    "Wait a minute, what even is \"information\" in this context?\n"
   ]
  },
  {
   "attachments": {
    "42f84086-41ef-42ce-a68c-44402a83cc45.png": {
     "image/png": "[encoded data removed]"
    }
   },
   "cell_type": "markdown",
   "id": "dbbeab3a-2fff-4302-9930-86dbe4c89783",
   "metadata": {
    "editable": true,
    "slideshow": {
     "slide_type": "subslide"
    },
    "tags": []
   },
   "source": [
    "__Complexity (information theory)__\n",
    "\n",
    "![image.png](attachment:42f84086-41ef-42ce-a68c-44402a83cc45.png)\n",
    "\n",
    "$$\n",
    "I(E) = -\\log_2(p(E))\n",
    "$$\n",
    "\n",
    "Information conveyed by an event or message is inversely proportional to its probability. That is, the less probable an event is, the more information it carries when it occurs.\n",
    "\n"
   ]
  },
  {
   "cell_type": "markdown",
   "id": "8a403e14-6697-4356-b6dc-010297a22f37",
   "metadata": {
    "editable": true,
    "slideshow": {
     "slide_type": "subslide"
    },
    "tags": []
   },
   "source": [
    "__Complexity (information theory)__\n",
    "\n",
    "Imagine a coin toss as a \"message\" with two equally probable outcomes."
   ]
  },
  {
   "cell_type": "code",
   "execution_count": 3,
   "id": "1d74f09c-57bd-478e-b6ca-96269b8d9605",
   "metadata": {
    "editable": true,
    "slideshow": {
     "slide_type": "subslide"
    },
    "tags": []
   },
   "outputs": [
    {
     "name": "stdout",
     "output_type": "stream",
     "text": [
      "Shannon information content for heads: 1.0000 bits\n",
      "Shannon information content for tails: 1.0000 bits\n"
     ]
    }
   ],
   "source": [
    "import math\n",
    "\n",
    "# Probability of each outcome for a fair coin toss\n",
    "probability_heads = 0.5\n",
    "probability_tails = 0.5\n",
    "\n",
    "# Calculate Shannon information content for each outcome\n",
    "information_heads = -math.log2(probability_heads)\n",
    "information_tails = -math.log2(probability_tails)\n",
    "\n",
    "print(f\"Shannon information content for heads: {information_heads:.4f} bits\")\n",
    "print(f\"Shannon information content for tails: {information_tails:.4f} bits\")"
   ]
  },
  {
   "cell_type": "code",
   "execution_count": 4,
   "id": "129fff80-efe2-4b59-aa71-b4d3d1a99724",
   "metadata": {
    "editable": true,
    "slideshow": {
     "slide_type": "skip"
    },
    "tags": []
   },
   "outputs": [
    {
     "data": {
      "image/svg+xml": [
       "<svg xmlns=\"http://www.w3.org/2000/svg\" aria-roledescription=\"flowchart-v2\" role=\"graphics-document document\" viewBox=\"-8 -8 1386.59375 309.75\" height=\"309.75\" width=\"1386.59375\" id=\"container\"><style>#container{font-family:&quot;trebuchet ms&quot;,verdana,arial,sans-serif;font-size:16px;fill:#333;}#container .error-icon{fill:#552222;}#container .error-text{fill:#552222;stroke:#552222;}#container .edge-thickness-normal{stroke-width:2px;}#container .edge-thickness-thick{stroke-width:3.5px;}#container .edge-pattern-solid{stroke-dasharray:0;}#container .edge-pattern-dashed{stroke-dasharray:3;}#container .edge-pattern-dotted{stroke-dasharray:2;}#container .marker{fill:#333333;stroke:#333333;}#container .marker.cross{stroke:#333333;}#container svg{font-family:&quot;trebuchet ms&quot;,verdana,arial,sans-serif;font-size:16px;}#container .label{font-family:&quot;trebuchet ms&quot;,verdana,arial,sans-serif;color:#333;}#container .cluster-label text{fill:#333;}#container .cluster-label span,#container p{color:#333;}#container .label text,#container span,#container p{fill:#333;color:#333;}#container .node rect,#container .node circle,#container .node ellipse,#container .node polygon,#container .node path{fill:#ECECFF;stroke:#9370DB;stroke-width:1px;}#container .flowchart-label text{text-anchor:middle;}#container .node .label{text-align:center;}#container .node.clickable{cursor:pointer;}#container .arrowheadPath{fill:#333333;}#container .edgePath .path{stroke:#333333;stroke-width:2.0px;}#container .flowchart-link{stroke:#333333;fill:none;}#container .edgeLabel{background-color:#e8e8e8;text-align:center;}#container .edgeLabel rect{opacity:0.5;background-color:#e8e8e8;fill:#e8e8e8;}#container .labelBkg{background-color:rgba(232, 232, 232, 0.5);}#container .cluster rect{fill:#ffffde;stroke:#aaaa33;stroke-width:1px;}#container .cluster text{fill:#333;}#container .cluster span,#container p{color:#333;}#container div.mermaidTooltip{position:absolute;text-align:center;max-width:200px;padding:2px;font-family:&quot;trebuchet ms&quot;,verdana,arial,sans-serif;font-size:12px;background:hsl(80, 100%, 96.2745098039%);border:1px solid #aaaa33;border-radius:2px;pointer-events:none;z-index:100;}#container .flowchartTitleText{text-anchor:middle;font-size:18px;fill:#333;}#container :root{--mermaid-font-family:&quot;trebuchet ms&quot;,verdana,arial,sans-serif;}</style><g><marker orient=\"auto\" markerHeight=\"12\" markerWidth=\"12\" markerUnits=\"userSpaceOnUse\" refY=\"5\" refX=\"10\" viewBox=\"0 0 10 10\" class=\"marker flowchart\" id=\"flowchart-pointEnd\"><path style=\"stroke-width: 1; stroke-dasharray: 1, 0;\" class=\"arrowMarkerPath\" d=\"M 0 0 L 10 5 L 0 10 z\"/></marker><marker orient=\"auto\" markerHeight=\"12\" markerWidth=\"12\" markerUnits=\"userSpaceOnUse\" refY=\"5\" refX=\"0\" viewBox=\"0 0 10 10\" class=\"marker flowchart\" id=\"flowchart-pointStart\"><path style=\"stroke-width: 1; stroke-dasharray: 1, 0;\" class=\"arrowMarkerPath\" d=\"M 0 5 L 10 10 L 10 0 z\"/></marker><marker orient=\"auto\" markerHeight=\"11\" markerWidth=\"11\" markerUnits=\"userSpaceOnUse\" refY=\"5\" refX=\"11\" viewBox=\"0 0 10 10\" class=\"marker flowchart\" id=\"flowchart-circleEnd\"><circle style=\"stroke-width: 1; stroke-dasharray: 1, 0;\" class=\"arrowMarkerPath\" r=\"5\" cy=\"5\" cx=\"5\"/></marker><marker orient=\"auto\" markerHeight=\"11\" markerWidth=\"11\" markerUnits=\"userSpaceOnUse\" refY=\"5\" refX=\"-1\" viewBox=\"0 0 10 10\" class=\"marker flowchart\" id=\"flowchart-circleStart\"><circle style=\"stroke-width: 1; stroke-dasharray: 1, 0;\" class=\"arrowMarkerPath\" r=\"5\" cy=\"5\" cx=\"5\"/></marker><marker orient=\"auto\" markerHeight=\"11\" markerWidth=\"11\" markerUnits=\"userSpaceOnUse\" refY=\"5.2\" refX=\"12\" viewBox=\"0 0 11 11\" class=\"marker cross flowchart\" id=\"flowchart-crossEnd\"><path style=\"stroke-width: 2; stroke-dasharray: 1, 0;\" class=\"arrowMarkerPath\" d=\"M 1,1 l 9,9 M 10,1 l -9,9\"/></marker><marker orient=\"auto\" markerHeight=\"11\" markerWidth=\"11\" markerUnits=\"userSpaceOnUse\" refY=\"5.2\" refX=\"-1\" viewBox=\"0 0 11 11\" class=\"marker cross flowchart\" id=\"flowchart-crossStart\"><path style=\"stroke-width: 2; stroke-dasharray: 1, 0;\" class=\"arrowMarkerPath\" d=\"M 1,1 l 9,9 M 10,1 l -9,9\"/></marker><g class=\"root\"><g class=\"clusters\"><g id=\"noise_system\" class=\"cluster default flowchart-label\"><rect height=\"104\" width=\"158.09375\" y=\"189.75\" x=\"417.71875\" ry=\"0\" rx=\"0\" style=\"\"/><g transform=\"translate(435.046875, 189.75)\" class=\"cluster-label\"><foreignObject height=\"19\" width=\"123.4375\"><div xmlns=\"http://www.w3.org/1999/xhtml\" style=\"display: inline-block; white-space: nowrap;\"><span class=\"nodeLabel\">Noise generation</span></div></foreignObject></g></g><g id=\"info_system\" class=\"cluster default flowchart-label\"><rect height=\"169.75\" width=\"1243.203125\" y=\"0\" x=\"127.390625\" ry=\"0\" rx=\"0\" style=\"\"/><g transform=\"translate(647.5, 0)\" class=\"cluster-label\"><foreignObject height=\"19\" width=\"202.984375\"><div xmlns=\"http://www.w3.org/1999/xhtml\" style=\"display: inline-block; white-space: nowrap;\"><span class=\"nodeLabel\">Information communication</span></div></foreignObject></g></g></g><g class=\"edgePaths\"><path marker-end=\"url(#flowchart-pointEnd)\" style=\"fill:none;stroke-width:2px;stroke-dasharray:3;\" class=\"edge-thickness-normal edge-pattern-dotted flowchart-link LS-message LE-message_source\" id=\"L-message-message_source-0\" d=\"M77.390625,61.5L81.55729166666667,61.5C85.72395833333333,61.5,94.05729166666667,61.5,102.390625,61.5C110.72395833333333,61.5,119.05729166666667,61.5,127.390625,61.5C135.72395833333334,61.5,144.05729166666666,61.5,148.22395833333334,61.5L152.390625,61.5\"/><path marker-end=\"url(#flowchart-pointEnd)\" style=\"fill:none;\" class=\"edge-thickness-normal edge-pattern-solid flowchart-link LS-message_source LE-message_transmitter\" id=\"L-message_source-message_transmitter-0\" d=\"M253.640625,61.5L267.3138020833333,61.5C280.9869791666667,61.5,308.3333333333333,61.5,335.6796875,61.5C363.0260416666667,61.5,390.3723958333333,61.5,409.01953125,61.5C427.6666666666667,61.5,437.6145833333333,61.5,442.5885416666667,61.5L447.5625,61.5\"/><path marker-end=\"url(#flowchart-pointEnd)\" style=\"fill:none;\" class=\"edge-thickness-normal edge-pattern-solid flowchart-link LS-message_transmitter LE-noise_intersection\" id=\"L-message_transmitter-noise_intersection-0\" d=\"M545.96875,61.5L550.9427083333334,61.5C555.9166666666666,61.5,565.8645833333334,61.5,584.1080729166666,61.5C602.3515625,61.5,628.890625,61.5,655.4296875,64.24577735659736C681.96875,66.99155471319472,708.5078125,72.48310942638943,721.77734375,75.22888678298679L735.046875,77.97466413958415\"/><path marker-end=\"url(#flowchart-pointEnd)\" style=\"fill:none;\" class=\"edge-thickness-normal edge-pattern-solid flowchart-link LS-noise_source LE-noise_intersection\" id=\"L-noise_source-noise_intersection-0\" d=\"M550.8125,241.75L554.9791666666666,241.75C559.1458333333334,241.75,567.4791666666666,241.75,584.9153645833334,221.375C602.3515625,201,628.890625,160.25,655.4296875,137.12922264340264C681.96875,114.00844528680528,708.5078125,108.51689057361057,721.77734375,105.77111321701322L735.046875,103.02533586041585\"/><path marker-end=\"url(#flowchart-pointEnd)\" style=\"fill:none;\" class=\"edge-thickness-normal edge-pattern-solid flowchart-link LS-noise_intersection LE-message_receiver\" id=\"L-noise_intersection-message_receiver-0\" d=\"M856.109375,90.5L869.0208333333334,90.5C881.9322916666666,90.5,907.7552083333334,90.5,933.578125,90.5C959.4010416666666,90.5,985.2239583333334,90.5,998.1354166666666,90.5L1011.046875,90.5\"/><path marker-end=\"url(#flowchart-pointEnd)\" style=\"fill:none;\" class=\"edge-thickness-normal edge-pattern-solid flowchart-link LS-message_receiver LE-message_destination\" id=\"L-message_receiver-message_destination-0\" d=\"M1087.484375,90.5L1100.75390625,90.5C1114.0234375,90.5,1140.5625,90.5,1167.1015625,90.5C1193.640625,90.5,1220.1796875,90.5,1233.44921875,90.5L1246.71875,90.5\"/></g><g class=\"edgeLabels\"><g class=\"edgeLabel\"><g transform=\"translate(0, 0)\" class=\"label\"><foreignObject height=\"0\" width=\"0\"><div xmlns=\"http://www.w3.org/1999/xhtml\" style=\"display: inline-block; white-space: nowrap;\"><span class=\"edgeLabel\"/></div></foreignObject></g></g><g transform=\"translate(335.6796875, 61.5)\" class=\"edgeLabel\"><g transform=\"translate(-57.0390625, -19)\" class=\"label\"><foreignObject height=\"38\" width=\"114.078125\"><div xmlns=\"http://www.w3.org/1999/xhtml\" style=\"display: inline-block; white-space: nowrap;\"><span class=\"edgeLabel\">shares message<br/>through</span></div></foreignObject></g></g><g transform=\"translate(655.4296875, 61.5)\" class=\"edgeLabel\"><g transform=\"translate(-54.6171875, -19)\" class=\"label\"><foreignObject height=\"38\" width=\"109.234375\"><div xmlns=\"http://www.w3.org/1999/xhtml\" style=\"display: inline-block; white-space: nowrap;\"><span class=\"edgeLabel\">sends message<br/>for receival</span></div></foreignObject></g></g><g transform=\"translate(655.4296875, 119.5)\" class=\"edgeLabel\"><g transform=\"translate(-44.8984375, -19)\" class=\"label\"><foreignObject height=\"38\" width=\"89.796875\"><div xmlns=\"http://www.w3.org/1999/xhtml\" style=\"display: inline-block; white-space: nowrap;\"><span class=\"edgeLabel\">noise added<br/>to message</span></div></foreignObject></g></g><g transform=\"translate(933.578125, 90.5)\" class=\"edgeLabel\"><g transform=\"translate(-52.46875, -19)\" class=\"label\"><foreignObject height=\"38\" width=\"104.9375\"><div xmlns=\"http://www.w3.org/1999/xhtml\" style=\"display: inline-block; white-space: nowrap;\"><span class=\"edgeLabel\">noisy message<br/>received by</span></div></foreignObject></g></g><g transform=\"translate(1167.1015625, 90.5)\" class=\"edgeLabel\"><g transform=\"translate(-54.6171875, -19)\" class=\"label\"><foreignObject height=\"38\" width=\"109.234375\"><div xmlns=\"http://www.w3.org/1999/xhtml\" style=\"display: inline-block; white-space: nowrap;\"><span class=\"edgeLabel\">sends message<br/>to</span></div></foreignObject></g></g></g><g class=\"nodes\"><g transform=\"translate(496.765625, 241.75)\" id=\"flowchart-noise_source-6\" class=\"node default default flowchart-label\"><rect height=\"34\" width=\"108.09375\" y=\"-17\" x=\"-54.046875\" ry=\"0\" rx=\"0\" style=\"\" class=\"basic label-container\"/><g transform=\"translate(-46.546875, -9.5)\" style=\"\" class=\"label\"><rect/><foreignObject height=\"19\" width=\"93.09375\"><div xmlns=\"http://www.w3.org/1999/xhtml\" style=\"display: inline-block; white-space: nowrap;\"><span class=\"nodeLabel\">Noise source</span></div></foreignObject></g></g><g transform=\"translate(203.015625, 61.5)\" id=\"flowchart-message_source-1\" class=\"node default default flowchart-label\"><rect height=\"53\" width=\"101.25\" y=\"-26.5\" x=\"-50.625\" ry=\"0\" rx=\"0\" style=\"\" class=\"basic label-container\"/><g transform=\"translate(-43.125, -19)\" style=\"\" class=\"label\"><rect/><foreignObject height=\"38\" width=\"86.25\"><div xmlns=\"http://www.w3.org/1999/xhtml\" style=\"display: inline-block; white-space: nowrap;\"><span class=\"nodeLabel\">Information<br/>source</span></div></foreignObject></g></g><g transform=\"translate(496.765625, 61.5)\" id=\"flowchart-message_transmitter-2\" class=\"node default default flowchart-label\"><rect height=\"34\" width=\"98.40625\" y=\"-17\" x=\"-49.203125\" ry=\"0\" rx=\"0\" style=\"\" class=\"basic label-container\"/><g transform=\"translate(-41.703125, -9.5)\" style=\"\" class=\"label\"><rect/><foreignObject height=\"19\" width=\"83.40625\"><div xmlns=\"http://www.w3.org/1999/xhtml\" style=\"display: inline-block; white-space: nowrap;\"><span class=\"nodeLabel\">Transmitter</span></div></foreignObject></g></g><g transform=\"translate(795.578125, 90.5)\" id=\"flowchart-noise_intersection-3\" class=\"node default default flowchart-label\"><rect height=\"53\" width=\"121.0625\" y=\"-26.5\" x=\"-60.53125\" ry=\"0\" rx=\"0\" style=\"fill:transparent;stroke:#aaa;stroke-width:1px;\" class=\"basic label-container\"/><g transform=\"translate(-53.03125, -19)\" style=\"\" class=\"label\"><rect/><foreignObject height=\"38\" width=\"106.0625\"><div xmlns=\"http://www.w3.org/1999/xhtml\" style=\"display: inline-block; white-space: nowrap;\"><span class=\"nodeLabel\">message noise<br/>intersection</span></div></foreignObject></g></g><g transform=\"translate(1049.265625, 90.5)\" id=\"flowchart-message_receiver-4\" class=\"node default default flowchart-label\"><rect height=\"34\" width=\"76.4375\" y=\"-17\" x=\"-38.21875\" ry=\"0\" rx=\"0\" style=\"\" class=\"basic label-container\"/><g transform=\"translate(-30.71875, -9.5)\" style=\"\" class=\"label\"><rect/><foreignObject height=\"19\" width=\"61.4375\"><div xmlns=\"http://www.w3.org/1999/xhtml\" style=\"display: inline-block; white-space: nowrap;\"><span class=\"nodeLabel\">Receiver</span></div></foreignObject></g></g><g transform=\"translate(1296.15625, 90.5)\" id=\"flowchart-message_destination-5\" class=\"node default default flowchart-label\"><rect height=\"34\" width=\"98.875\" y=\"-17\" x=\"-49.4375\" ry=\"0\" rx=\"0\" style=\"\" class=\"basic label-container\"/><g transform=\"translate(-41.9375, -9.5)\" style=\"\" class=\"label\"><rect/><foreignObject height=\"19\" width=\"83.875\"><div xmlns=\"http://www.w3.org/1999/xhtml\" style=\"display: inline-block; white-space: nowrap;\"><span class=\"nodeLabel\">Destination</span></div></foreignObject></g></g><g transform=\"translate(38.6953125, 61.5)\" id=\"flowchart-message-0\" class=\"node default default flowchart-label\"><rect height=\"34\" width=\"77.390625\" y=\"-17\" x=\"-38.6953125\" ry=\"0\" rx=\"0\" style=\"\" class=\"basic label-container\"/><g transform=\"translate(-31.1953125, -9.5)\" style=\"\" class=\"label\"><rect/><foreignObject height=\"19\" width=\"62.390625\"><div xmlns=\"http://www.w3.org/1999/xhtml\" style=\"display: inline-block; white-space: nowrap;\"><span class=\"nodeLabel\">message</span></div></foreignObject></g></g></g></g></g></svg>"
      ],
      "text/plain": [
       "<IPython.core.display.SVG object>"
      ]
     },
     "execution_count": 4,
     "metadata": {},
     "output_type": "execute_result"
    }
   ],
   "source": [
    "render_mermaid_diagram(\n",
    "    \"\"\"\n",
    "flowchart LR\n",
    "\n",
    "message[\"message\"]\n",
    "subgraph info_system[\"Information communication\"]\n",
    "message_source[\"Information\\nsource\"]\n",
    "message_transmitter[\"Transmitter\"]\n",
    "noise_intersection[\"message noise\\nintersection\"]\n",
    "message_receiver[\"Receiver\"]\n",
    "message_destination[\"Destination\"]\n",
    "end\n",
    "\n",
    "subgraph noise_system[\"Noise generation\"]\n",
    "noise_source[\"Noise source\"]\n",
    "end\n",
    "\n",
    "message -.-> message_source\n",
    "message_source --> | shares message\\nthrough | message_transmitter\n",
    "message_transmitter --> | sends message\\nfor receival | noise_intersection\n",
    "noise_source --> | noise added\\nto message | noise_intersection\n",
    "noise_intersection --> | noisy message\\nreceived by | message_receiver\n",
    "message_receiver --> | sends message\\nto | message_destination\n",
    "\n",
    "style noise_intersection fill:transparent,stroke:#aaa,stroke-width:1px\n",
    "    \"\"\",\n",
    "    \"shannon_information_communication.svg\",\n",
    ")"
   ]
  },
  {
   "cell_type": "markdown",
   "id": "ca7c1779-cf04-4044-9dd0-3b684c032531",
   "metadata": {
    "editable": true,
    "slideshow": {
     "slide_type": "subslide"
    },
    "tags": []
   },
   "source": [
    "__Complexity (information theory)__\n",
    "\n",
    "![](images/shannon_information_communication.svg)\n",
    "\n",
    "Entropy:\n",
    "\n",
    "$$\n",
    "H(X) = -\\sum_{x \\in \\mathcal{X}} p(x) \\log_b p(x)\n",
    "$$\n",
    "\n",
    "As understood through Shannon's communication system."
   ]
  },
  {
   "cell_type": "code",
   "execution_count": 5,
   "id": "ba9a17f4-6ed5-44f4-b2bc-0c4f87425364",
   "metadata": {
    "editable": true,
    "slideshow": {
     "slide_type": "subslide"
    },
    "tags": []
   },
   "outputs": [
    {
     "name": "stdout",
     "output_type": "stream",
     "text": [
      "Shannon entropy for the fair coin toss: 1.0000 bits\n",
      "\n",
      "The result can be understood as 'maximum uncertainty' as it's completely unpredictable (equal probabilities).\n"
     ]
    }
   ],
   "source": [
    "import math\n",
    "\n",
    "# Probability of each outcome for a fair coin toss\n",
    "probability_heads = 0.5\n",
    "probability_tails = 0.5\n",
    "\n",
    "# Calculate Shannon entropy for the coin toss\n",
    "entropy = -(\n",
    "    probability_heads * math.log2(probability_heads)\n",
    "    + probability_tails * math.log2(probability_tails)\n",
    ")\n",
    "\n",
    "print(f\"Shannon entropy for the fair coin toss: {entropy:.4f} bits\")\n",
    "print(\n",
    "    \"\\nThe result can be understood as 'maximum uncertainty' as it's completely unpredictable (equal probabilities).\"\n",
    ")"
   ]
  },
  {
   "cell_type": "code",
   "execution_count": 6,
   "id": "eb34d57d-82f6-41b7-ac9a-b9bd4ae8dfe0",
   "metadata": {
    "editable": true,
    "slideshow": {
     "slide_type": "subslide"
    },
    "tags": []
   },
   "outputs": [
    {
     "name": "stdout",
     "output_type": "stream",
     "text": [
      "Information content for heads: 1.7370 bits\n",
      "Information content for tails: 0.5146 bits\n",
      "Entropy for the unfair coin toss: 0.8813 bits\n",
      "\n",
      "We have more information from heads as it's less likely. We have less information from tails as it's more likely. We have less entropy because the outcome is more predictable.\n"
     ]
    }
   ],
   "source": [
    "import math\n",
    "\n",
    "# Probabilities for the unfair coin toss\n",
    "probability_heads = 0.3\n",
    "probability_tails = 0.7\n",
    "\n",
    "# Information content for heads and tails\n",
    "information_heads = -math.log2(probability_heads)\n",
    "information_tails = -math.log2(probability_tails)\n",
    "\n",
    "# Entropy calculation\n",
    "entropy = -(\n",
    "    probability_heads * math.log2(probability_heads)\n",
    "    + probability_tails * math.log2(probability_tails)\n",
    ")\n",
    "\n",
    "print(f\"Information content for heads: {information_heads:.4f} bits\")\n",
    "print(f\"Information content for tails: {information_tails:.4f} bits\")\n",
    "print(f\"Entropy for the unfair coin toss: {entropy:.4f} bits\")\n",
    "print(\n",
    "    \"\\nWe have more information from heads as it's less likely. We have less information from tails as it's more likely. We have less entropy because the outcome is more predictable.\"\n",
    ")"
   ]
  },
  {
   "cell_type": "markdown",
   "id": "6de9ed4e-f55c-45b3-bdff-c8772cc5a97b",
   "metadata": {
    "editable": true,
    "slideshow": {
     "slide_type": "slide"
    },
    "tags": []
   },
   "source": [
    "__Prior work with Software Failures and Complexity Measures__\n",
    "\n",
    "- Prior modifications to a file are a good predictor of its fault potential (i.e., the more a file is changed, the more likely it will contain faults).\n",
    "\n",
    "- Most code complexity metrics highly correlate with LOC (lines of code), a much simpler metric.\n",
    "\n",
    "- Process metrics outperform code metrics as predictors of future faults.\n",
    "\n",
    "- Prior faults are good predictors of future faults."
   ]
  },
  {
   "cell_type": "markdown",
   "id": "d4531215-94a2-4a3f-8b37-d2b41748333b",
   "metadata": {
    "editable": true,
    "slideshow": {
     "slide_type": "slide"
    },
    "tags": []
   },
   "source": [
    "__\"Predicting faults using the complexity of code changes\" Conjecture__\n",
    "\n",
    "\n",
    "- _A complex code change process negatively affects its product, the software system._\n",
    "- _The more complex changes to a file, the higher the chance the file will contain faults._"
   ]
  }
 ],
 "metadata": {
  "kernelspec": {
   "display_name": "Python 3 (ipykernel)",
   "language": "python",
   "name": "python3"
  },
  "language_info": {
   "codemirror_mode": {
    "name": "ipython",
    "version": 3
   },
   "file_extension": ".py",
   "mimetype": "text/x-python",
   "name": "python",
   "nbconvert_exporter": "python",
   "pygments_lexer": "ipython3",
   "version": "3.11.2"
  }
 },
 "nbformat": 4,
 "nbformat_minor": 5
}
